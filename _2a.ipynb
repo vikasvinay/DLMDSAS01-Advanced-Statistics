{
 "cells": [
  {
   "cell_type": "code",
   "execution_count": 1,
   "id": "b6b6edee",
   "metadata": {},
   "outputs": [],
   "source": [
    "import matplotlib.pyplot as plt\n",
    "import seaborn as sns\n",
    "import pandas as pd\n",
    "import numpy as np\n"
   ]
  },
  {
   "cell_type": "code",
   "execution_count": 2,
   "id": "c9bd8e82",
   "metadata": {},
   "outputs": [
    {
     "data": {
      "text/html": [
       "<div>\n",
       "<style scoped>\n",
       "    .dataframe tbody tr th:only-of-type {\n",
       "        vertical-align: middle;\n",
       "    }\n",
       "\n",
       "    .dataframe tbody tr th {\n",
       "        vertical-align: top;\n",
       "    }\n",
       "\n",
       "    .dataframe thead th {\n",
       "        text-align: right;\n",
       "    }\n",
       "</style>\n",
       "<table border=\"1\" class=\"dataframe\">\n",
       "  <thead>\n",
       "    <tr style=\"text-align: right;\">\n",
       "      <th></th>\n",
       "      <th>x</th>\n",
       "      <th>y</th>\n",
       "    </tr>\n",
       "  </thead>\n",
       "  <tbody>\n",
       "    <tr>\n",
       "      <th>0</th>\n",
       "      <td>0.531</td>\n",
       "      <td>185.25</td>\n",
       "    </tr>\n",
       "    <tr>\n",
       "      <th>1</th>\n",
       "      <td>-1.711</td>\n",
       "      <td>-14.30</td>\n",
       "    </tr>\n",
       "    <tr>\n",
       "      <th>2</th>\n",
       "      <td>2.784</td>\n",
       "      <td>239.72</td>\n",
       "    </tr>\n",
       "    <tr>\n",
       "      <th>3</th>\n",
       "      <td>-3.330</td>\n",
       "      <td>-284.38</td>\n",
       "    </tr>\n",
       "    <tr>\n",
       "      <th>4</th>\n",
       "      <td>4.206</td>\n",
       "      <td>150.20</td>\n",
       "    </tr>\n",
       "  </tbody>\n",
       "</table>\n",
       "</div>"
      ],
      "text/plain": [
       "       x       y\n",
       "0  0.531  185.25\n",
       "1 -1.711  -14.30\n",
       "2  2.784  239.72\n",
       "3 -3.330 -284.38\n",
       "4  4.206  150.20"
      ]
     },
     "execution_count": 2,
     "metadata": {},
     "output_type": "execute_result"
    }
   ],
   "source": [
    "# Adding Given x and y's \n",
    "data = [[0.531, 185.25], [-1.711, -14.3], [2.784, 239.72], [-3.33, -284.38], [4.206, 150.2], \n",
    "        [4.816, 437.65], [7.785, 237.82], [-3.473, -349.61], [4.062, 671.91], [0.369, 227.18], \n",
    "        [4.632, -231.02], [-9.556, 553.03], [5.092, -695.55], [-10.452, 142.98], [-3.413, -104.25], \n",
    "        [-3.007, 506.92], [3.899, 428.88], [1.97, 777.71], [0.607, -349.13], [-4.86, 422.26]]\n",
    "dataFrame = pd.DataFrame(data, columns=['x','y'])\n",
    "dataFrame.head()"
   ]
  },
  {
   "cell_type": "code",
   "execution_count": 3,
   "id": "de20f7ea",
   "metadata": {},
   "outputs": [
    {
     "data": {
      "image/png": "[encoded data removed]",
      "text/plain": [
       "<Figure size 432x288 with 1 Axes>"
      ]
     },
     "metadata": {
      "needs_background": "light"
     },
     "output_type": "display_data"
    }
   ],
   "source": [
    "#ploting the data using seaborn\n",
    "sns.scatterplot(data=dataFrame,x='x',y='y')\n",
    "plt.xlabel('x points')\n",
    "plt.ylabel('y points')\n",
    "plt.title('Data')\n",
    "plt.show()"
   ]
  },
  {
   "cell_type": "code",
   "execution_count": 4,
   "id": "c7b61af5",
   "metadata": {},
   "outputs": [],
   "source": [
    "# Calculating mean for the data\n",
    "def mean(columnName):\n",
    "    return sum(dataFrame[columnName])/len(data)"
   ]
  },
  {
   "cell_type": "code",
   "execution_count": 5,
   "id": "abe144a0",
   "metadata": {},
   "outputs": [
    {
     "name": "stdout",
     "output_type": "stream",
     "text": [
      "0.04755000000000002\n",
      "147.66349999999997\n"
     ]
    }
   ],
   "source": [
    "print(mean('x'))\n",
    "print(mean('y'))"
   ]
  },
  {
   "cell_type": "code",
   "execution_count": 6,
   "id": "f14bf533",
   "metadata": {},
   "outputs": [],
   "source": [
    "def covariance(x,y, xMean, yMean):\n",
    "    return sum((x - xMean) * (y - yMean) /(len(data) - 1))"
   ]
  },
  {
   "cell_type": "code",
   "execution_count": 7,
   "id": "964a8962",
   "metadata": {},
   "outputs": [
    {
     "data": {
      "text/plain": [
       "-73.91237623684208"
      ]
     },
     "execution_count": 7,
     "metadata": {},
     "output_type": "execute_result"
    }
   ],
   "source": [
    "covariance(dataFrame['x'],dataFrame['y'], mean('x'),mean('y'))"
   ]
  },
  {
   "cell_type": "code",
   "execution_count": 8,
   "id": "5c9d5186",
   "metadata": {},
   "outputs": [],
   "source": [
    "def variance(x,y, xMean, yMean):\n",
    "    return f'x-variance = {round(sum((x - xMean) ** 2)  / (len(data) - 1) , 2)}, y-variance = {round(sum((y - yMean) ** 2)  / (len(data) - 1) , 2)} '"
   ]
  },
  {
   "cell_type": "code",
   "execution_count": 9,
   "id": "babb6b7f",
   "metadata": {},
   "outputs": [
    {
     "data": {
      "text/plain": [
       "'x-variance = 24.42, y-variance = 150156.53 '"
      ]
     },
     "execution_count": 9,
     "metadata": {},
     "output_type": "execute_result"
    }
   ],
   "source": [
    "variance(dataFrame['x'],dataFrame['y'], mean('x'),mean('y'))"
   ]
  },
  {
   "cell_type": "markdown",
   "id": "6cfee7eb",
   "metadata": {},
   "source": [
    "# Verifying"
   ]
  },
  {
   "cell_type": "code",
   "execution_count": 10,
   "id": "f70b5282",
   "metadata": {},
   "outputs": [
    {
     "data": {
      "text/plain": [
       "x        24.415746\n",
       "y    150156.527066\n",
       "dtype: float64"
      ]
     },
     "execution_count": 10,
     "metadata": {},
     "output_type": "execute_result"
    }
   ],
   "source": [
    "# Calculating Variance\n",
    "dataFrame.var()"
   ]
  },
  {
   "cell_type": "code",
   "execution_count": null,
   "id": "0bab4984",
   "metadata": {},
   "outputs": [],
   "source": []
  }
 ],
 "metadata": {
  "kernelspec": {
   "display_name": "Python 3 (ipykernel)",
   "language": "python",
   "name": "python3"
  },
  "language_info": {
   "codemirror_mode": {
    "name": "ipython",
    "version": 3
   },
   "file_extension": ".py",
   "mimetype": "text/x-python",
   "name": "python",
   "nbconvert_exporter": "python",
   "pygments_lexer": "ipython3",
   "version": "3.8.10"
  }
 },
 "nbformat": 4,
 "nbformat_minor": 5
}
